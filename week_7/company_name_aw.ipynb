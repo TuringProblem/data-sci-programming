import random
company = ""
for letter in range(8):
    company += chr(random.randint(97, 122))
print(f"Company name: '{company}'")

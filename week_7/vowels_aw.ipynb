# Author: Andrew
## given an input string of ‘Hello’ the output string should be 2 
first = "hello"

## given an input string of ‘AeIou’ the output string should be 5
second = "AeIou"

## given an input string of ‘1 Main Street’ the output string should be 4
third = "1 Main Street"

def handleMe(value):
    vowels = "aeiouAEIOU"
    myList = sum(1 for char in value if char in vowels) 
    return myList

print(f"First test: {handleMe(first)}\nSecond test: {handleMe(second)}\nThird test: {handleMe(third)}")
